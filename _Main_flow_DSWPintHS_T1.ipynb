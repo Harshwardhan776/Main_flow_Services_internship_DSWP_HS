{
 "cells": [
  {
   "cell_type": "markdown",
   "id": "50bd2278-e5fa-4790-a538-d3348791f559",
   "metadata": {},
   "source": [
    "# DATA ANALYSIS AND DATASCIENCE USING PYTHON\n",
    "## Task 1: Data Analysis Project Using Python\n",
    "### Required libraries"
   ]
  },
  {
   "cell_type": "code",
   "execution_count": 32,
   "id": "64e703ed-2a23-426b-a0a2-859cd8c1ce5f",
   "metadata": {},
   "outputs": [],
   "source": [
    "import pandas as pd \n",
    "import numpy as np "
   ]
  },
  {
   "cell_type": "markdown",
   "id": "6a93549e-d1f0-421f-a75d-bd0058089215",
   "metadata": {},
   "source": [
    "## Dataset studnets-mat\n",
    "### 1.Dataset Selection\n",
    "#### a.Data Loading\n",
    "\n"
   ]
  },
  {
   "cell_type": "code",
   "execution_count": 33,
   "id": "dab85a82-0605-4a51-a2d0-634d3bc5569d",
   "metadata": {},
   "outputs": [],
   "source": [
    "file_path = \"C:\\\\Users\\\\HP\\\\Downloads\\\\student mat.csv\"\n",
    "data = pd.read_csv(file_path)"
   ]
  },
  {
   "cell_type": "code",
   "execution_count": 34,
   "id": "95b9d2e4-7558-4eb7-b3a5-e1fdbefe7d45",
   "metadata": {},
   "outputs": [
    {
     "name": "stdout",
     "output_type": "stream",
     "text": [
      "    school;sex;age;address;famsize;Pstatus;Medu;Fedu;Mjob;Fjob;reason;guardian;traveltime;studytime;failures;schoolsup;famsup;paid;activities;nursery;higher;internet;romantic;famrel;freetime;goout;Dalc;Walc;health;absences;G1;G2;G3\n",
      "0    GP;\"F\";18;\"U\";\"GT3\";\"A\";4;4;\"at_home\";\"teacher...                                                                                                                                                                                 \n",
      "1    GP;\"F\";17;\"U\";\"GT3\";\"T\";1;1;\"at_home\";\"other\";...                                                                                                                                                                                 \n",
      "2    GP;\"F\";15;\"U\";\"LE3\";\"T\";1;1;\"at_home\";\"other\";...                                                                                                                                                                                 \n",
      "3    GP;\"F\";15;\"U\";\"GT3\";\"T\";4;2;\"health\";\"services...                                                                                                                                                                                 \n",
      "4    GP;\"F\";16;\"U\";\"GT3\";\"T\";3;3;\"other\";\"other\";\"h...                                                                                                                                                                                 \n",
      "..                                                 ...                                                                                                                                                                                 \n",
      "644  MS;\"F\";19;\"R\";\"GT3\";\"T\";2;3;\"services\";\"other\"...                                                                                                                                                                                 \n",
      "645  MS;\"F\";18;\"U\";\"LE3\";\"T\";3;1;\"teacher\";\"service...                                                                                                                                                                                 \n",
      "646  MS;\"F\";18;\"U\";\"GT3\";\"T\";1;1;\"other\";\"other\";\"c...                                                                                                                                                                                 \n",
      "647  MS;\"M\";17;\"U\";\"LE3\";\"T\";3;1;\"services\";\"servic...                                                                                                                                                                                 \n",
      "648  MS;\"M\";18;\"R\";\"LE3\";\"T\";3;2;\"services\";\"other\"...                                                                                                                                                                                 \n",
      "\n",
      "[649 rows x 1 columns]\n"
     ]
    }
   ],
   "source": [
    "print(data)"
   ]
  },
  {
   "cell_type": "markdown",
   "id": "11c6264e-bd98-4f20-ade8-648f4ec21f5a",
   "metadata": {},
   "source": [
    "###  #first need to sort this data into proper format for further anlysis"
   ]
  },
  {
   "cell_type": "code",
   "execution_count": 35,
   "id": "68572e4b-5f58-4152-adc1-22e7fdf54d7e",
   "metadata": {},
   "outputs": [
    {
     "name": "stdout",
     "output_type": "stream",
     "text": [
      "    school    sex  age address  famsize Pstatus  Medu  Fedu          Mjob  \\\n",
      "0      \"GP  \"\"F\"\"   18   \"\"U\"\"  \"\"GT3\"\"   \"\"A\"\"     4     4   \"\"at_home\"\"   \n",
      "1      \"GP  \"\"F\"\"   17   \"\"U\"\"  \"\"GT3\"\"   \"\"T\"\"     1     1   \"\"at_home\"\"   \n",
      "2      \"GP  \"\"F\"\"   15   \"\"U\"\"  \"\"LE3\"\"   \"\"T\"\"     1     1   \"\"at_home\"\"   \n",
      "3      \"GP  \"\"F\"\"   15   \"\"U\"\"  \"\"GT3\"\"   \"\"T\"\"     4     2    \"\"health\"\"   \n",
      "4      \"GP  \"\"F\"\"   16   \"\"U\"\"  \"\"GT3\"\"   \"\"T\"\"     3     3     \"\"other\"\"   \n",
      "..     ...    ...  ...     ...      ...     ...   ...   ...           ...   \n",
      "644    \"MS  \"\"F\"\"   19   \"\"R\"\"  \"\"GT3\"\"   \"\"T\"\"     2     3  \"\"services\"\"   \n",
      "645    \"MS  \"\"F\"\"   18   \"\"U\"\"  \"\"LE3\"\"   \"\"T\"\"     3     1   \"\"teacher\"\"   \n",
      "646    \"MS  \"\"F\"\"   18   \"\"U\"\"  \"\"GT3\"\"   \"\"T\"\"     1     1     \"\"other\"\"   \n",
      "647    \"MS  \"\"M\"\"   17   \"\"U\"\"  \"\"LE3\"\"   \"\"T\"\"     3     1  \"\"services\"\"   \n",
      "648    \"MS  \"\"M\"\"   18   \"\"R\"\"  \"\"LE3\"\"   \"\"T\"\"     3     2  \"\"services\"\"   \n",
      "\n",
      "             Fjob  ... famrel freetime  goout  Dalc  Walc health absences  \\\n",
      "0     \"\"teacher\"\"  ...      4        3      4     1     1      3        4   \n",
      "1       \"\"other\"\"  ...      5        3      3     1     1      3        2   \n",
      "2       \"\"other\"\"  ...      4        3      2     2     3      3        6   \n",
      "3    \"\"services\"\"  ...      3        2      2     1     1      5        0   \n",
      "4       \"\"other\"\"  ...      4        3      2     1     2      5        0   \n",
      "..            ...  ...    ...      ...    ...   ...   ...    ...      ...   \n",
      "644     \"\"other\"\"  ...      5        4      2     1     2      5        4   \n",
      "645  \"\"services\"\"  ...      4        3      4     1     1      1        4   \n",
      "646     \"\"other\"\"  ...      1        1      1     1     1      5        6   \n",
      "647  \"\"services\"\"  ...      2        4      5     3     4      2        6   \n",
      "648     \"\"other\"\"  ...      4        4      1     3     4      5        4   \n",
      "\n",
      "         G1      G2   G3  \n",
      "0     \"\"0\"\"  \"\"11\"\"  11\"  \n",
      "1     \"\"9\"\"  \"\"11\"\"  11\"  \n",
      "2    \"\"12\"\"  \"\"13\"\"  12\"  \n",
      "3    \"\"14\"\"  \"\"14\"\"  14\"  \n",
      "4    \"\"11\"\"  \"\"13\"\"  13\"  \n",
      "..      ...     ...  ...  \n",
      "644  \"\"10\"\"  \"\"11\"\"  10\"  \n",
      "645  \"\"15\"\"  \"\"15\"\"  16\"  \n",
      "646  \"\"11\"\"  \"\"12\"\"   9\"  \n",
      "647  \"\"10\"\"  \"\"10\"\"  10\"  \n",
      "648  \"\"10\"\"  \"\"11\"\"  11\"  \n",
      "\n",
      "[649 rows x 33 columns]\n"
     ]
    }
   ],
   "source": [
    "### first we change delimiter as comma\n",
    "data = pd.read_csv(file_path, delimiter=\";\", quoting=3, encoding=\"utf-8\")\n",
    "print(data)"
   ]
  },
  {
   "cell_type": "code",
   "execution_count": 36,
   "id": "4089df62-a1e6-4803-9e14-ff6e33b7ed15",
   "metadata": {},
   "outputs": [
    {
     "name": "stdout",
     "output_type": "stream",
     "text": [
      "    school sex  age address famsize Pstatus  Medu  Fedu      Mjob      Fjob  \\\n",
      "0       GP   F   18       U     GT3       A     4     4   at_home   teacher   \n",
      "1       GP   F   17       U     GT3       T     1     1   at_home     other   \n",
      "2       GP   F   15       U     LE3       T     1     1   at_home     other   \n",
      "3       GP   F   15       U     GT3       T     4     2    health  services   \n",
      "4       GP   F   16       U     GT3       T     3     3     other     other   \n",
      "..     ...  ..  ...     ...     ...     ...   ...   ...       ...       ...   \n",
      "644     MS   F   19       R     GT3       T     2     3  services     other   \n",
      "645     MS   F   18       U     LE3       T     3     1   teacher  services   \n",
      "646     MS   F   18       U     GT3       T     1     1     other     other   \n",
      "647     MS   M   17       U     LE3       T     3     1  services  services   \n",
      "648     MS   M   18       R     LE3       T     3     2  services     other   \n",
      "\n",
      "     ... famrel freetime  goout  Dalc  Walc health absences  G1  G2  G3  \n",
      "0    ...      4        3      4     1     1      3        4   0  11  11  \n",
      "1    ...      5        3      3     1     1      3        2   9  11  11  \n",
      "2    ...      4        3      2     2     3      3        6  12  13  12  \n",
      "3    ...      3        2      2     1     1      5        0  14  14  14  \n",
      "4    ...      4        3      2     1     2      5        0  11  13  13  \n",
      "..   ...    ...      ...    ...   ...   ...    ...      ...  ..  ..  ..  \n",
      "644  ...      5        4      2     1     2      5        4  10  11  10  \n",
      "645  ...      4        3      4     1     1      1        4  15  15  16  \n",
      "646  ...      1        1      1     1     1      5        6  11  12   9  \n",
      "647  ...      2        4      5     3     4      2        6  10  10  10  \n",
      "648  ...      4        4      1     3     4      5        4  10  11  11  \n",
      "\n",
      "[649 rows x 33 columns]\n"
     ]
    },
    {
     "name": "stderr",
     "output_type": "stream",
     "text": [
      "C:\\Users\\HP\\AppData\\Local\\Temp\\ipykernel_7312\\3171649211.py:2: FutureWarning: DataFrame.applymap has been deprecated. Use DataFrame.map instead.\n",
      "  data = data.applymap(lambda x: x.strip('\"') if isinstance(x, str) else x)\n"
     ]
    }
   ],
   "source": [
    "### now we strip extra quotes\n",
    "data = data.applymap(lambda x: x.strip('\"') if isinstance(x, str) else x)\n",
    "print(data)"
   ]
  },
  {
   "cell_type": "code",
   "execution_count": 15,
   "id": "63fd362a-0e8c-42b8-9171-99735be70f19",
   "metadata": {},
   "outputs": [
    {
     "data": {
      "text/html": [
       "<div>\n",
       "<style scoped>\n",
       "    .dataframe tbody tr th:only-of-type {\n",
       "        vertical-align: middle;\n",
       "    }\n",
       "\n",
       "    .dataframe tbody tr th {\n",
       "        vertical-align: top;\n",
       "    }\n",
       "\n",
       "    .dataframe thead th {\n",
       "        text-align: right;\n",
       "    }\n",
       "</style>\n",
       "<table border=\"1\" class=\"dataframe\">\n",
       "  <thead>\n",
       "    <tr style=\"text-align: right;\">\n",
       "      <th></th>\n",
       "      <th>school</th>\n",
       "      <th>sex</th>\n",
       "      <th>age</th>\n",
       "      <th>address</th>\n",
       "      <th>famsize</th>\n",
       "      <th>Pstatus</th>\n",
       "      <th>Medu</th>\n",
       "      <th>Fedu</th>\n",
       "      <th>Mjob</th>\n",
       "      <th>Fjob</th>\n",
       "      <th>...</th>\n",
       "      <th>famrel</th>\n",
       "      <th>freetime</th>\n",
       "      <th>goout</th>\n",
       "      <th>Dalc</th>\n",
       "      <th>Walc</th>\n",
       "      <th>health</th>\n",
       "      <th>absences</th>\n",
       "      <th>G1</th>\n",
       "      <th>G2</th>\n",
       "      <th>G3</th>\n",
       "    </tr>\n",
       "  </thead>\n",
       "  <tbody>\n",
       "    <tr>\n",
       "      <th>0</th>\n",
       "      <td>GP</td>\n",
       "      <td>F</td>\n",
       "      <td>18</td>\n",
       "      <td>U</td>\n",
       "      <td>GT3</td>\n",
       "      <td>A</td>\n",
       "      <td>4</td>\n",
       "      <td>4</td>\n",
       "      <td>at_home</td>\n",
       "      <td>teacher</td>\n",
       "      <td>...</td>\n",
       "      <td>4</td>\n",
       "      <td>3</td>\n",
       "      <td>4</td>\n",
       "      <td>1</td>\n",
       "      <td>1</td>\n",
       "      <td>3</td>\n",
       "      <td>4</td>\n",
       "      <td>0</td>\n",
       "      <td>11</td>\n",
       "      <td>11</td>\n",
       "    </tr>\n",
       "    <tr>\n",
       "      <th>1</th>\n",
       "      <td>GP</td>\n",
       "      <td>F</td>\n",
       "      <td>17</td>\n",
       "      <td>U</td>\n",
       "      <td>GT3</td>\n",
       "      <td>T</td>\n",
       "      <td>1</td>\n",
       "      <td>1</td>\n",
       "      <td>at_home</td>\n",
       "      <td>other</td>\n",
       "      <td>...</td>\n",
       "      <td>5</td>\n",
       "      <td>3</td>\n",
       "      <td>3</td>\n",
       "      <td>1</td>\n",
       "      <td>1</td>\n",
       "      <td>3</td>\n",
       "      <td>2</td>\n",
       "      <td>9</td>\n",
       "      <td>11</td>\n",
       "      <td>11</td>\n",
       "    </tr>\n",
       "    <tr>\n",
       "      <th>2</th>\n",
       "      <td>GP</td>\n",
       "      <td>F</td>\n",
       "      <td>15</td>\n",
       "      <td>U</td>\n",
       "      <td>LE3</td>\n",
       "      <td>T</td>\n",
       "      <td>1</td>\n",
       "      <td>1</td>\n",
       "      <td>at_home</td>\n",
       "      <td>other</td>\n",
       "      <td>...</td>\n",
       "      <td>4</td>\n",
       "      <td>3</td>\n",
       "      <td>2</td>\n",
       "      <td>2</td>\n",
       "      <td>3</td>\n",
       "      <td>3</td>\n",
       "      <td>6</td>\n",
       "      <td>12</td>\n",
       "      <td>13</td>\n",
       "      <td>12</td>\n",
       "    </tr>\n",
       "    <tr>\n",
       "      <th>3</th>\n",
       "      <td>GP</td>\n",
       "      <td>F</td>\n",
       "      <td>15</td>\n",
       "      <td>U</td>\n",
       "      <td>GT3</td>\n",
       "      <td>T</td>\n",
       "      <td>4</td>\n",
       "      <td>2</td>\n",
       "      <td>health</td>\n",
       "      <td>services</td>\n",
       "      <td>...</td>\n",
       "      <td>3</td>\n",
       "      <td>2</td>\n",
       "      <td>2</td>\n",
       "      <td>1</td>\n",
       "      <td>1</td>\n",
       "      <td>5</td>\n",
       "      <td>0</td>\n",
       "      <td>14</td>\n",
       "      <td>14</td>\n",
       "      <td>14</td>\n",
       "    </tr>\n",
       "    <tr>\n",
       "      <th>4</th>\n",
       "      <td>GP</td>\n",
       "      <td>F</td>\n",
       "      <td>16</td>\n",
       "      <td>U</td>\n",
       "      <td>GT3</td>\n",
       "      <td>T</td>\n",
       "      <td>3</td>\n",
       "      <td>3</td>\n",
       "      <td>other</td>\n",
       "      <td>other</td>\n",
       "      <td>...</td>\n",
       "      <td>4</td>\n",
       "      <td>3</td>\n",
       "      <td>2</td>\n",
       "      <td>1</td>\n",
       "      <td>2</td>\n",
       "      <td>5</td>\n",
       "      <td>0</td>\n",
       "      <td>11</td>\n",
       "      <td>13</td>\n",
       "      <td>13</td>\n",
       "    </tr>\n",
       "    <tr>\n",
       "      <th>5</th>\n",
       "      <td>GP</td>\n",
       "      <td>M</td>\n",
       "      <td>16</td>\n",
       "      <td>U</td>\n",
       "      <td>LE3</td>\n",
       "      <td>T</td>\n",
       "      <td>4</td>\n",
       "      <td>3</td>\n",
       "      <td>services</td>\n",
       "      <td>other</td>\n",
       "      <td>...</td>\n",
       "      <td>5</td>\n",
       "      <td>4</td>\n",
       "      <td>2</td>\n",
       "      <td>1</td>\n",
       "      <td>2</td>\n",
       "      <td>5</td>\n",
       "      <td>6</td>\n",
       "      <td>12</td>\n",
       "      <td>12</td>\n",
       "      <td>13</td>\n",
       "    </tr>\n",
       "    <tr>\n",
       "      <th>6</th>\n",
       "      <td>GP</td>\n",
       "      <td>M</td>\n",
       "      <td>16</td>\n",
       "      <td>U</td>\n",
       "      <td>LE3</td>\n",
       "      <td>T</td>\n",
       "      <td>2</td>\n",
       "      <td>2</td>\n",
       "      <td>other</td>\n",
       "      <td>other</td>\n",
       "      <td>...</td>\n",
       "      <td>4</td>\n",
       "      <td>4</td>\n",
       "      <td>4</td>\n",
       "      <td>1</td>\n",
       "      <td>1</td>\n",
       "      <td>3</td>\n",
       "      <td>0</td>\n",
       "      <td>13</td>\n",
       "      <td>12</td>\n",
       "      <td>13</td>\n",
       "    </tr>\n",
       "  </tbody>\n",
       "</table>\n",
       "<p>7 rows × 33 columns</p>\n",
       "</div>"
      ],
      "text/plain": [
       "  school sex  age address famsize Pstatus  Medu  Fedu      Mjob      Fjob  \\\n",
       "0     GP   F   18       U     GT3       A     4     4   at_home   teacher   \n",
       "1     GP   F   17       U     GT3       T     1     1   at_home     other   \n",
       "2     GP   F   15       U     LE3       T     1     1   at_home     other   \n",
       "3     GP   F   15       U     GT3       T     4     2    health  services   \n",
       "4     GP   F   16       U     GT3       T     3     3     other     other   \n",
       "5     GP   M   16       U     LE3       T     4     3  services     other   \n",
       "6     GP   M   16       U     LE3       T     2     2     other     other   \n",
       "\n",
       "   ... famrel freetime  goout  Dalc  Walc health absences  G1  G2  G3  \n",
       "0  ...      4        3      4     1     1      3        4   0  11  11  \n",
       "1  ...      5        3      3     1     1      3        2   9  11  11  \n",
       "2  ...      4        3      2     2     3      3        6  12  13  12  \n",
       "3  ...      3        2      2     1     1      5        0  14  14  14  \n",
       "4  ...      4        3      2     1     2      5        0  11  13  13  \n",
       "5  ...      5        4      2     1     2      5        6  12  12  13  \n",
       "6  ...      4        4      4     1     1      3        0  13  12  13  \n",
       "\n",
       "[7 rows x 33 columns]"
      ]
     },
     "execution_count": 15,
     "metadata": {},
     "output_type": "execute_result"
    }
   ],
   "source": [
    "### now dataset in proper format \n",
    "data.head(7)"
   ]
  },
  {
   "cell_type": "markdown",
   "id": "00238b61-dd0e-46c4-81c9-dc1252ca517f",
   "metadata": {},
   "source": [
    "### b.Data exploration\n",
    "#### checking for missing values "
   ]
  },
  {
   "cell_type": "code",
   "execution_count": 37,
   "id": "da7041a2-0acf-4479-a63d-c753120675b6",
   "metadata": {},
   "outputs": [
    {
     "name": "stdout",
     "output_type": "stream",
     "text": [
      "school        0\n",
      "sex           0\n",
      "age           0\n",
      "address       0\n",
      "famsize       0\n",
      "Pstatus       0\n",
      "Medu          0\n",
      "Fedu          0\n",
      "Mjob          0\n",
      "Fjob          0\n",
      "reason        0\n",
      "guardian      0\n",
      "traveltime    0\n",
      "studytime     0\n",
      "failures      0\n",
      "schoolsup     0\n",
      "famsup        0\n",
      "paid          0\n",
      "activities    0\n",
      "nursery       0\n",
      "higher        0\n",
      "internet      0\n",
      "romantic      0\n",
      "famrel        0\n",
      "freetime      0\n",
      "goout         0\n",
      "Dalc          0\n",
      "Walc          0\n",
      "health        0\n",
      "absences      0\n",
      "G1            0\n",
      "G2            0\n",
      "G3            0\n",
      "dtype: int64\n"
     ]
    }
   ],
   "source": [
    "data_missing = data.isnull().sum()\n",
    "print(data_missing)"
   ]
  },
  {
   "cell_type": "code",
   "execution_count": 38,
   "id": "6e8fdb35-47d8-4d20-8a1e-ec2438b9f2c4",
   "metadata": {},
   "outputs": [
    {
     "name": "stdout",
     "output_type": "stream",
     "text": [
      "school        object\n",
      "sex           object\n",
      "age            int64\n",
      "address       object\n",
      "famsize       object\n",
      "Pstatus       object\n",
      "Medu           int64\n",
      "Fedu           int64\n",
      "Mjob          object\n",
      "Fjob          object\n",
      "reason        object\n",
      "guardian      object\n",
      "traveltime     int64\n",
      "studytime      int64\n",
      "failures       int64\n",
      "schoolsup     object\n",
      "famsup        object\n",
      "paid          object\n",
      "activities    object\n",
      "nursery       object\n",
      "higher        object\n",
      "internet      object\n",
      "romantic      object\n",
      "famrel         int64\n",
      "freetime       int64\n",
      "goout          int64\n",
      "Dalc           int64\n",
      "Walc           int64\n",
      "health         int64\n",
      "absences       int64\n",
      "G1            object\n",
      "G2            object\n",
      "G3            object\n",
      "dtype: object\n"
     ]
    }
   ],
   "source": [
    "### dislpaying column data type\n",
    "data_types = data.dtypes\n",
    "print(data_types)"
   ]
  },
  {
   "cell_type": "code",
   "execution_count": 39,
   "id": "42e0bdf6-bd99-40fb-8c0d-fcbc3a55a345",
   "metadata": {},
   "outputs": [
    {
     "name": "stdout",
     "output_type": "stream",
     "text": [
      "(649, 33)\n"
     ]
    }
   ],
   "source": [
    "### Understanding the dataset \n",
    "data_shape = data.shape\n",
    "print(data_shape)"
   ]
  },
  {
   "cell_type": "markdown",
   "id": "d41ec8f2-71b2-4e52-9325-9e3e8c4e0a1d",
   "metadata": {},
   "source": [
    "**key findings**\n",
    "- no null values\n",
    "- dataset has datatype as object, int64\n",
    "- and datset contains 649 rows and 33 colmns"
   ]
  },
  {
   "cell_type": "markdown",
   "id": "20e4efdf-6f45-43e6-948b-8d6e67ac76a0",
   "metadata": {},
   "source": [
    "### c. Data Cleaning"
   ]
  },
  {
   "cell_type": "code",
   "execution_count": 40,
   "id": "90374c48-b2cd-4c49-9653-5663029cc824",
   "metadata": {},
   "outputs": [],
   "source": [
    "### no missing values "
   ]
  },
  {
   "cell_type": "code",
   "execution_count": 41,
   "id": "289a065c-7b24-4dcf-bc3f-59f70243a9f1",
   "metadata": {},
   "outputs": [],
   "source": [
    "### removing duplicates \n",
    "data_duplicate=data.duplicated().sum()"
   ]
  },
  {
   "cell_type": "code",
   "execution_count": 42,
   "id": "a47d36aa-10bb-45ae-8f51-334dc2eab5b5",
   "metadata": {},
   "outputs": [
    {
     "name": "stdout",
     "output_type": "stream",
     "text": [
      "0\n"
     ]
    }
   ],
   "source": [
    "print(data_duplicate)"
   ]
  },
  {
   "cell_type": "code",
   "execution_count": 43,
   "id": "f9dea494-268a-4fec-82d4-870ea3135417",
   "metadata": {},
   "outputs": [],
   "source": [
    "## still we execute drop duplicates \n",
    "data_dupl= data.drop_duplicates()"
   ]
  },
  {
   "cell_type": "code",
   "execution_count": 44,
   "id": "3e6ed3d4-b0c6-43cd-b2d4-0cd6e9e3c3c3",
   "metadata": {},
   "outputs": [
    {
     "data": {
      "text/html": [
       "<div>\n",
       "<style scoped>\n",
       "    .dataframe tbody tr th:only-of-type {\n",
       "        vertical-align: middle;\n",
       "    }\n",
       "\n",
       "    .dataframe tbody tr th {\n",
       "        vertical-align: top;\n",
       "    }\n",
       "\n",
       "    .dataframe thead th {\n",
       "        text-align: right;\n",
       "    }\n",
       "</style>\n",
       "<table border=\"1\" class=\"dataframe\">\n",
       "  <thead>\n",
       "    <tr style=\"text-align: right;\">\n",
       "      <th></th>\n",
       "      <th>school</th>\n",
       "      <th>sex</th>\n",
       "      <th>age</th>\n",
       "      <th>address</th>\n",
       "      <th>famsize</th>\n",
       "      <th>Pstatus</th>\n",
       "      <th>Medu</th>\n",
       "      <th>Fedu</th>\n",
       "      <th>Mjob</th>\n",
       "      <th>Fjob</th>\n",
       "      <th>...</th>\n",
       "      <th>famrel</th>\n",
       "      <th>freetime</th>\n",
       "      <th>goout</th>\n",
       "      <th>Dalc</th>\n",
       "      <th>Walc</th>\n",
       "      <th>health</th>\n",
       "      <th>absences</th>\n",
       "      <th>G1</th>\n",
       "      <th>G2</th>\n",
       "      <th>G3</th>\n",
       "    </tr>\n",
       "  </thead>\n",
       "  <tbody>\n",
       "    <tr>\n",
       "      <th>0</th>\n",
       "      <td>GP</td>\n",
       "      <td>F</td>\n",
       "      <td>18</td>\n",
       "      <td>U</td>\n",
       "      <td>GT3</td>\n",
       "      <td>A</td>\n",
       "      <td>4</td>\n",
       "      <td>4</td>\n",
       "      <td>at_home</td>\n",
       "      <td>teacher</td>\n",
       "      <td>...</td>\n",
       "      <td>4</td>\n",
       "      <td>3</td>\n",
       "      <td>4</td>\n",
       "      <td>1</td>\n",
       "      <td>1</td>\n",
       "      <td>3</td>\n",
       "      <td>4</td>\n",
       "      <td>0</td>\n",
       "      <td>11</td>\n",
       "      <td>11</td>\n",
       "    </tr>\n",
       "    <tr>\n",
       "      <th>1</th>\n",
       "      <td>GP</td>\n",
       "      <td>F</td>\n",
       "      <td>17</td>\n",
       "      <td>U</td>\n",
       "      <td>GT3</td>\n",
       "      <td>T</td>\n",
       "      <td>1</td>\n",
       "      <td>1</td>\n",
       "      <td>at_home</td>\n",
       "      <td>other</td>\n",
       "      <td>...</td>\n",
       "      <td>5</td>\n",
       "      <td>3</td>\n",
       "      <td>3</td>\n",
       "      <td>1</td>\n",
       "      <td>1</td>\n",
       "      <td>3</td>\n",
       "      <td>2</td>\n",
       "      <td>9</td>\n",
       "      <td>11</td>\n",
       "      <td>11</td>\n",
       "    </tr>\n",
       "    <tr>\n",
       "      <th>2</th>\n",
       "      <td>GP</td>\n",
       "      <td>F</td>\n",
       "      <td>15</td>\n",
       "      <td>U</td>\n",
       "      <td>LE3</td>\n",
       "      <td>T</td>\n",
       "      <td>1</td>\n",
       "      <td>1</td>\n",
       "      <td>at_home</td>\n",
       "      <td>other</td>\n",
       "      <td>...</td>\n",
       "      <td>4</td>\n",
       "      <td>3</td>\n",
       "      <td>2</td>\n",
       "      <td>2</td>\n",
       "      <td>3</td>\n",
       "      <td>3</td>\n",
       "      <td>6</td>\n",
       "      <td>12</td>\n",
       "      <td>13</td>\n",
       "      <td>12</td>\n",
       "    </tr>\n",
       "    <tr>\n",
       "      <th>3</th>\n",
       "      <td>GP</td>\n",
       "      <td>F</td>\n",
       "      <td>15</td>\n",
       "      <td>U</td>\n",
       "      <td>GT3</td>\n",
       "      <td>T</td>\n",
       "      <td>4</td>\n",
       "      <td>2</td>\n",
       "      <td>health</td>\n",
       "      <td>services</td>\n",
       "      <td>...</td>\n",
       "      <td>3</td>\n",
       "      <td>2</td>\n",
       "      <td>2</td>\n",
       "      <td>1</td>\n",
       "      <td>1</td>\n",
       "      <td>5</td>\n",
       "      <td>0</td>\n",
       "      <td>14</td>\n",
       "      <td>14</td>\n",
       "      <td>14</td>\n",
       "    </tr>\n",
       "    <tr>\n",
       "      <th>4</th>\n",
       "      <td>GP</td>\n",
       "      <td>F</td>\n",
       "      <td>16</td>\n",
       "      <td>U</td>\n",
       "      <td>GT3</td>\n",
       "      <td>T</td>\n",
       "      <td>3</td>\n",
       "      <td>3</td>\n",
       "      <td>other</td>\n",
       "      <td>other</td>\n",
       "      <td>...</td>\n",
       "      <td>4</td>\n",
       "      <td>3</td>\n",
       "      <td>2</td>\n",
       "      <td>1</td>\n",
       "      <td>2</td>\n",
       "      <td>5</td>\n",
       "      <td>0</td>\n",
       "      <td>11</td>\n",
       "      <td>13</td>\n",
       "      <td>13</td>\n",
       "    </tr>\n",
       "  </tbody>\n",
       "</table>\n",
       "<p>5 rows × 33 columns</p>\n",
       "</div>"
      ],
      "text/plain": [
       "  school sex  age address famsize Pstatus  Medu  Fedu     Mjob      Fjob  ...  \\\n",
       "0     GP   F   18       U     GT3       A     4     4  at_home   teacher  ...   \n",
       "1     GP   F   17       U     GT3       T     1     1  at_home     other  ...   \n",
       "2     GP   F   15       U     LE3       T     1     1  at_home     other  ...   \n",
       "3     GP   F   15       U     GT3       T     4     2   health  services  ...   \n",
       "4     GP   F   16       U     GT3       T     3     3    other     other  ...   \n",
       "\n",
       "  famrel freetime  goout  Dalc  Walc health absences  G1  G2  G3  \n",
       "0      4        3      4     1     1      3        4   0  11  11  \n",
       "1      5        3      3     1     1      3        2   9  11  11  \n",
       "2      4        3      2     2     3      3        6  12  13  12  \n",
       "3      3        2      2     1     1      5        0  14  14  14  \n",
       "4      4        3      2     1     2      5        0  11  13  13  \n",
       "\n",
       "[5 rows x 33 columns]"
      ]
     },
     "execution_count": 44,
     "metadata": {},
     "output_type": "execute_result"
    }
   ],
   "source": [
    "data.head()"
   ]
  },
  {
   "cell_type": "markdown",
   "id": "399ffaca-0f0f-4988-b224-beb94d7b57c6",
   "metadata": {},
   "source": [
    "**key findings**\n",
    "- Data has have missing values\n",
    "- data has duplicates "
   ]
  },
  {
   "cell_type": "markdown",
   "id": "788c4ca0-90aa-4985-8a53-bd3902a36dae",
   "metadata": {},
   "source": [
    "### d. Data analysis Question\n",
    "####  1. What is the average score in math (G3)?"
   ]
  },
  {
   "cell_type": "code",
   "execution_count": 55,
   "id": "c63321d5-64a4-4f57-8cde-332f8c035a1e",
   "metadata": {},
   "outputs": [],
   "source": [
    "### as G2,G2,G3 are object ie string so we need it in numeric form therefore \n",
    "data[\"G1\"] = pd.to_numeric(data[\"G1\"], errors=\"coerce\")\n",
    "data[\"G2\"] = pd.to_numeric(data[\"G2\"], errors=\"coerce\")\n",
    "data[\"G3\"] = pd.to_numeric(data[\"G3\"], errors=\"coerce\")"
   ]
  },
  {
   "cell_type": "code",
   "execution_count": 60,
   "id": "e64cdcf7-471c-49e4-9baa-33a0dc2482f9",
   "metadata": {},
   "outputs": [
    {
     "name": "stdout",
     "output_type": "stream",
     "text": [
      "int64\n",
      "int64\n",
      "int64\n"
     ]
    }
   ],
   "source": [
    "print(data[\"G1\"].dtype)\n",
    "print(data[\"G1\"].dtype)\n",
    "print(data[\"G1\"].dtype)\n",
    "  \n"
   ]
  },
  {
   "cell_type": "code",
   "execution_count": 61,
   "id": "01b0ce40-7c69-4fc3-b9b8-6d9b9cc0ccc1",
   "metadata": {},
   "outputs": [
    {
     "name": "stdout",
     "output_type": "stream",
     "text": [
      "Average score in math(G3): 11.906009244992296\n"
     ]
    }
   ],
   "source": [
    "avg_G3 =data[\"G3\"].mean()\n",
    "print(\"Average score in math(G3):\",avg_G3)"
   ]
  },
  {
   "cell_type": "markdown",
   "id": "9a31e09c-8436-45b0-b742-366ee2f908b8",
   "metadata": {},
   "source": [
    "####  2.Howmany students scored above 15 in their final grade (G3)?"
   ]
  },
  {
   "cell_type": "code",
   "execution_count": 63,
   "id": "772ec4e5-2509-4960-b082-7dc4d41fbc6c",
   "metadata": {},
   "outputs": [
    {
     "name": "stdout",
     "output_type": "stream",
     "text": [
      "students scored above 15 in fianal grade(G3): 82\n"
     ]
    }
   ],
   "source": [
    "students_above15 = data[data[\"G3\"]>15].shape[0]\n",
    "print(\"students scored above 15 in fianal grade(G3):\",students_above15)"
   ]
  },
  {
   "cell_type": "markdown",
   "id": "41fb9969-c280-4941-9a84-35cbe4dc9197",
   "metadata": {},
   "source": [
    "###  3. Is there a correlation between study time (study time) and the final grade (G3)?"
   ]
  },
  {
   "cell_type": "code",
   "execution_count": 64,
   "id": "d10575c6-7285-46cd-9c33-ccb3177f0694",
   "metadata": {},
   "outputs": [
    {
     "name": "stdout",
     "output_type": "stream",
     "text": [
      "correlation between study time and final grade(G3): 0.24978868999886356\n"
     ]
    }
   ],
   "source": [
    "corr_studytime_G3 = data[\"studytime\"].corr(data[\"G3\"])\n",
    "print(\"correlation between study time and final grade(G3):\",corr_studytime_G3)"
   ]
  },
  {
   "cell_type": "markdown",
   "id": "2b36e567-cc07-48cf-8a55-7b6b8da759fa",
   "metadata": {},
   "source": [
    "####  4. Which gender has a higher average final grade (G3)?"
   ]
  },
  {
   "cell_type": "code",
   "execution_count": 65,
   "id": "cb1735a3-f839-4d96-935c-b380fea17c13",
   "metadata": {},
   "outputs": [
    {
     "name": "stdout",
     "output_type": "stream",
     "text": [
      "sex\n",
      "F    12.253264\n",
      "M    11.406015\n",
      "Name: G3, dtype: float64\n"
     ]
    }
   ],
   "source": [
    "gender_avg_G3 = data.groupby(\"sex\")[\"G3\"].mean()\n",
    "print(gender_avg_G3)"
   ]
  },
  {
   "cell_type": "markdown",
   "id": "08769443-89f0-4535-8aa4-eac4593e7ecd",
   "metadata": {},
   "source": [
    "**key findings**\n",
    "- Average score in math(G3) is 11.906\n",
    "- Total number of students scored above 15 are 82\n",
    "- Correlation coefficient suggest that there is weak correlation between study time and final grade "
   ]
  },
  {
   "cell_type": "markdown",
   "id": "41778c5b-3770-4f46-9e97-136007f72f62",
   "metadata": {},
   "source": [
    "### e. Data Visualization\n",
    "####  1. Plot a histogram of final grades (G3)"
   ]
  },
  {
   "cell_type": "code",
   "execution_count": 66,
   "id": "7120b442-51a5-4144-9998-484f3cd8b657",
   "metadata": {},
   "outputs": [],
   "source": [
    "## required libraries\n",
    "import matplotlib.pyplot as plt\n",
    "import seaborn as sns\n"
   ]
  },
  {
   "cell_type": "code",
   "execution_count": 67,
   "id": "953b14f1-a2a7-4659-ba2d-c3a80f0807e0",
   "metadata": {},
   "outputs": [
    {
     "data": {
      "image/png": "[encoded data removed]",
      "text/plain": [
       "<Figure size 800x600 with 1 Axes>"
      ]
     },
     "metadata": {},
     "output_type": "display_data"
    }
   ],
   "source": [
    "plt.figure(figsize=(8, 6))\n",
    "sns.histplot(data[\"G3\"], bins=11, kde=True, color=\"grey\")\n",
    "plt.xlabel(\"Final Grade(G3)\")\n",
    "plt.ylabel(\"Number of Student\")\n",
    "plt.title(\"Distribution of Final Grades(G3)\")\n",
    "plt.show()"
   ]
  },
  {
   "cell_type": "markdown",
   "id": "48c5396e-3a8a-4bad-be37-5248b90bf4e6",
   "metadata": {},
   "source": [
    "####  2. Create a scatter plot between study time (study time) and final grade (G3)."
   ]
  },
  {
   "cell_type": "code",
   "execution_count": 68,
   "id": "c0dd5566-16a8-470a-b667-79bfd7150641",
   "metadata": {},
   "outputs": [
    {
     "data": {
      "image/png": "[encoded data removed]",
      "text/plain": [
       "<Figure size 800x400 with 1 Axes>"
      ]
     },
     "metadata": {},
     "output_type": "display_data"
    }
   ],
   "source": [
    "### scatter plot\n",
    "plt.figure(figsize=(8, 4))\n",
    "sns.scatterplot(x=data[\"studytime\"], y=data[\"G3\"], color=\"blue\")\n",
    "plt.xlabel(\"Study Time (Hours per Week)\")\n",
    "plt.ylabel(\"Final Grade(G3)\")\n",
    "plt.title(\"Study Time vs Final Grade(G3)\")\n",
    "plt.show()"
   ]
  },
  {
   "cell_type": "markdown",
   "id": "b49c5cad-3a82-478a-8c1a-6c5cb8e9c3cf",
   "metadata": {},
   "source": [
    "#### 3. Create a bar chart comparing the average scores of male and female students."
   ]
  },
  {
   "cell_type": "code",
   "execution_count": 69,
   "id": "79f9a8ae-0561-4898-9275-44026458a82d",
   "metadata": {},
   "outputs": [
    {
     "name": "stderr",
     "output_type": "stream",
     "text": [
      "C:\\Users\\HP\\AppData\\Local\\Temp\\ipykernel_7312\\3800537069.py:3: FutureWarning: \n",
      "\n",
      "Passing `palette` without assigning `hue` is deprecated and will be removed in v0.14.0. Assign the `x` variable to `hue` and set `legend=False` for the same effect.\n",
      "\n",
      "  sns.barplot(x=data[\"sex\"], y=data[\"G3\"], palette=\"plasma\")\n"
     ]
    },
    {
     "data": {
      "image/png": "[encoded data removed]",
      "text/plain": [
       "<Figure size 800x500 with 1 Axes>"
      ]
     },
     "metadata": {},
     "output_type": "display_data"
    }
   ],
   "source": [
    "###Bar chart\n",
    "plt.figure(figsize=(8, 5))\n",
    "sns.barplot(x=data[\"sex\"], y=data[\"G3\"], palette=\"plasma\")\n",
    "plt.xlabel(\"Gender\")\n",
    "plt.ylabel(\"Average Final Grade (G3)\")\n",
    "plt.title(\"Comparison of Average G3 Scores by Gender\")\n",
    "plt.show()"
   ]
  },
  {
   "cell_type": "markdown",
   "id": "07e55c35-03a6-4a49-bbeb-37ff5c028227",
   "metadata": {},
   "source": [
    "**Key Findings**\n",
    "- 1. Histogram of final grades shows distribution is skewed to the right ie. positively skewed which infers that most of the students score in high grades nd very few score very less\n",
    "- 2. scatter plot is used for finding the correlation between two attributes and it shows positive correlation ie. as study time increases final grade increses as well\n",
    "- 3. form bar chsart we infer that female students have slightly high average score than male students "
   ]
  },
  {
   "cell_type": "code",
   "execution_count": null,
   "id": "e8cdac8e-d4f6-41ee-ab3f-56675b9e5d94",
   "metadata": {},
   "outputs": [],
   "source": []
  },
  {
   "cell_type": "code",
   "execution_count": null,
   "id": "2d01155d-e443-42ea-aa6d-b868e07a323d",
   "metadata": {},
   "outputs": [],
   "source": []
  },
  {
   "cell_type": "code",
   "execution_count": null,
   "id": "8827a364-3000-4cd0-8216-e1f3c0a1f27d",
   "metadata": {},
   "outputs": [],
   "source": []
  }
 ],
 "metadata": {
  "kernelspec": {
   "display_name": "Python 3 (ipykernel)",
   "language": "python",
   "name": "python3"
  },
  "language_info": {
   "codemirror_mode": {
    "name": "ipython",
    "version": 3
   },
   "file_extension": ".py",
   "mimetype": "text/x-python",
   "name": "python",
   "nbconvert_exporter": "python",
   "pygments_lexer": "ipython3",
   "version": "3.12.3"
  }
 },
 "nbformat": 4,
 "nbformat_minor": 5
}
